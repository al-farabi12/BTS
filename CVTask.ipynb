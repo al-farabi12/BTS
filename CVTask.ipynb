{
 "cells": [
  {
   "cell_type": "markdown",
   "metadata": {},
   "source": [
    "### Computer Vision Internship Program\n"
   ]
  },
  {
   "cell_type": "markdown",
   "metadata": {},
   "source": [
    "\n",
    "#### Practical Task description:\n",
    "Your task is to write to a pipeline to classify images from MNIST dataset\n",
    "(http://yann.lecun.com/exdb/mnist/)  using Neural Networks!\n",
    "\n"
   ]
  },
  {
   "cell_type": "markdown",
   "metadata": {},
   "source": [
    "\n",
    "##### To complete this task, you will have to implement the following steps:\n",
    "<br> 1. Download and read the data - 10 points\n",
    "<br> 2. Show how you use augmentation functions. To get the points, visualize the original image vs augmented image using 4 augmentation techniques of your choice - 10 points\n",
    "<br> 3. Implement a Neural Network which classifies given images. You can use any deep learning framework - 10 points\n",
    "<br> 4. Implement a training procedure using your dataloader, augmentation functions and neural network - 10 points\n",
    "<br> 5. Plot loss graph - 10 points\n",
    "<br> 6. Print accuracy of your model on test set -  10 points\n",
    "<br> 7. Show us how your model works! Plot a few input images and corresponding predictions of your model - 10 points\n",
    "<br> 8. Upload your work to github - 5 points. Google/dropbox/yandex drive - 0 points\n",
    "\n",
    "Max = 75 points!\n",
    "\n",
    "##### Main notes:\n",
    "<br> *- implement your work in provided jupyter notebook \n",
    "<br> - you can use any framework \n",
    "<br> - we are not too strict about the requirements: if your work corresponds to the task wording, the chances are you will get the full points*\n",
    "\n",
    "\n",
    "Please, upload to a google/dropbox/yandex drive or github  and send the link to the following google form: https://docs.google.com/forms/d/e/1FAIpQLSeeYILriugs1Vdxa3r01nS1469VT-_t_ZCNF18zwQVl-XKkHQ/viewform?usp=sf_link \n",
    "\n",
    "If you have any questions, please mail to:\n",
    "olzhas.kabdolov@btsdigital.kz and rustem.burkhanov@btsdigital.kz \n",
    "\n",
    "**The deadline is 27th of May, 12 o'Clock in the noon**\n",
    "\n",
    "\n",
    "####  Good luck and have fun!\n"
   ]
  },
  {
   "cell_type": "markdown",
   "metadata": {},
   "source": [
    "##### Task 1. Dataloader"
   ]
  },
  {
   "cell_type": "code",
   "execution_count": 151,
   "metadata": {
    "scrolled": true
   },
   "outputs": [
    {
     "name": "stdout",
     "output_type": "stream",
     "text": [
      "train_img shape:  (60000, 1, 28, 28)\n",
      "train_lbl shape:  (60000,)\n",
      "test_img shape:  (10000, 1, 28, 28)\n",
      "test_lbl shape:  (10000,)\n"
     ]
    }
   ],
   "source": [
    "# !wget \"http://yann.lecun.com/exdb/mnist/train-images-idx3-ubyte.gz\" \n",
    "# !wget \"http://yann.lecun.com/exdb/mnist/train-labels-idx1-ubyte.gz\" \n",
    "# !wget \"http://yann.lecun.com/exdb/mnist/t10k-images-idx3-ubyte.gz\" \n",
    "# !wget \"http://yann.lecun.com/exdb/mnist/t10k-labels-idx1-ubyte.gz\" \n",
    "import gzip\n",
    "import numpy as np\n",
    "train_img_filename = 'train-images-idx3-ubyte.gz'\n",
    "train_lbl_filename = 'train-labels-idx1-ubyte.gz'\n",
    "test_img_filename = 't10k-images-idx3-ubyte.gz'\n",
    "test_lbl_filename = 't10k-labels-idx1-ubyte.gz'\n",
    "\n",
    "image_size = 28\n",
    "num_train = 60000\n",
    "num_test = 10000\n",
    "\n",
    "def read_data(img_path,lbl_path,num):\n",
    "    imgs = gzip.open(img_path,'r')\n",
    "    lbls = gzip.open(lbl_path,'r')\n",
    "    imgs.read(16)\n",
    "    buf = imgs.read(image_size * image_size * num)\n",
    "    data = np.frombuffer(buf, dtype=np.uint8).astype(np.float32)\n",
    "    img_data = data.reshape(num, 1,image_size, image_size)/255\n",
    "    lbls.read(8)\n",
    "    buf = lbls.read(num)\n",
    "    data = np.frombuffer(buf, dtype=np.uint8).astype(np.uint8)\n",
    "    lbl_data = data.reshape(num)\n",
    "    return img_data, lbl_data\n",
    "\n",
    "\n",
    "train_img,train_lbl = read_data(train_img_filename,train_lbl_filename,num_train)\n",
    "print(\"train_img shape: \",train_img.shape)\n",
    "print(\"train_lbl shape: \",train_lbl.shape)\n",
    "test_img, test_lbl = read_data(test_img_filename,test_lbl_filename,num_test)\n",
    "print(\"test_img shape: \",test_img.shape)\n",
    "print(\"test_lbl shape: \",test_lbl.shape)\n"
   ]
  },
  {
   "cell_type": "markdown",
   "metadata": {},
   "source": [
    "##### Task 2. Augmentation"
   ]
  },
  {
   "cell_type": "code",
   "execution_count": 152,
   "metadata": {},
   "outputs": [],
   "source": [
    "import matplotlib.pyplot as plt"
   ]
  },
  {
   "cell_type": "code",
   "execution_count": 153,
   "metadata": {},
   "outputs": [],
   "source": [
    "from skimage.transform import rescale,rotate,resize\n",
    "from skimage.util import random_noise\n",
    "from skimage import exposure\n",
    "from scipy import ndimage\n",
    "import random"
   ]
  },
  {
   "cell_type": "code",
   "execution_count": 154,
   "metadata": {},
   "outputs": [],
   "source": [
    "def show(original, augmented):\n",
    "    plt.subplot(121)\n",
    "    plt.imshow(original.reshape(image_size,image_size))\n",
    "    plt.subplot(122)\n",
    "    plt.imshow(augmented.reshape(image_size,image_size))\n",
    "    plt.show()"
   ]
  },
  {
   "cell_type": "code",
   "execution_count": 155,
   "metadata": {
    "scrolled": false
   },
   "outputs": [],
   "source": [
    "#rescale and fit the size to the same dimentions\n",
    "\n",
    "def augmentor1(orig):\n",
    "    '''\n",
    "    rescale and fit \n",
    "    '''\n",
    "    return resize(rescale(orig,0.95),(1,image_size,image_size))\n",
    "def augmentor2(orig):\n",
    "    '''\n",
    "    random rotations\n",
    "    '''\n",
    "    return rotate(orig,random.randint(-5,5),center=(random.randint(10,20),random.randint(10,20)),resize=False)\n",
    "def augmentor3(orig):\n",
    "    '''\n",
    "    salt and paper noise\n",
    "    '''\n",
    "    return random_noise(orig,'s&p',amount=0.01)\n",
    "def augmentor4(orig):\n",
    "    '''\n",
    "    intensity change\n",
    "    '''\n",
    "    v_min, v_max = np.percentile(orig, (0.02, 95.8))\n",
    "    return exposure.rescale_intensity(orig, in_range=(v_min, v_max))\n",
    "def augmentor5(orig):\n",
    "    '''\n",
    "    filtering\n",
    "    '''\n",
    "    return ndimage.uniform_filter(orig, size=(1,3, 3))\n",
    "\n"
   ]
  },
  {
   "cell_type": "code",
   "execution_count": 156,
   "metadata": {
    "scrolled": true
   },
   "outputs": [
    {
     "data": {
      "image/png": "[encoded data removed]",
      "text/plain": [
       "<Figure size 432x288 with 2 Axes>"
      ]
     },
     "metadata": {
      "needs_background": "light"
     },
     "output_type": "display_data"
    },
    {
     "data": {
      "image/png": "[encoded data removed]",
      "text/plain": [
       "<Figure size 432x288 with 2 Axes>"
      ]
     },
     "metadata": {
      "needs_background": "light"
     },
     "output_type": "display_data"
    },
    {
     "data": {
      "image/png": "[encoded data removed]",
      "text/plain": [
       "<Figure size 432x288 with 2 Axes>"
      ]
     },
     "metadata": {
      "needs_background": "light"
     },
     "output_type": "display_data"
    },
    {
     "data": {
      "image/png": "[encoded data removed]",
      "text/plain": [
       "<Figure size 432x288 with 2 Axes>"
      ]
     },
     "metadata": {
      "needs_background": "light"
     },
     "output_type": "display_data"
    },
    {
     "data": {
      "image/png": "[encoded data removed]",
      "text/plain": [
       "<Figure size 432x288 with 2 Axes>"
      ]
     },
     "metadata": {
      "needs_background": "light"
     },
     "output_type": "display_data"
    }
   ],
   "source": [
    "orig = train_img[0]\n",
    "aug = augmentor1(orig)\n",
    "show(orig,aug)\n",
    "aug = augmentor2(orig)\n",
    "show(orig,aug)\n",
    "aug = augmentor3(orig)\n",
    "show(orig,aug)\n",
    "aug = augmentor4(orig)\n",
    "show(orig,aug)\n",
    "aug = augmentor5(orig)\n",
    "show(orig,aug)"
   ]
  },
  {
   "cell_type": "markdown",
   "metadata": {},
   "source": [
    "##### Task 3. Neural Network"
   ]
  },
  {
   "cell_type": "code",
   "execution_count": 157,
   "metadata": {},
   "outputs": [],
   "source": [
    "import torch\n",
    "import torch.nn as nn\n",
    "import torch.nn.functional as F\n",
    "import torch.utils.data as data\n",
    "import torchvision.transforms as transforms\n"
   ]
  },
  {
   "cell_type": "code",
   "execution_count": 158,
   "metadata": {},
   "outputs": [],
   "source": [
    "input_size = image_size*image_size       # The image size = 28 x 28 = 784\n",
    "hidden_size = 500      # The number of nodes at the hidden layer\n",
    "num_classes = 10       # The number of output classes. In this case, from 0 to 9\n",
    "num_epochs = 5         # The number of times entire dataset is trained\n",
    "batch_size = 100       # The size of input data took for one iteration\n",
    "learning_rate = 0.001 "
   ]
  },
  {
   "cell_type": "code",
   "execution_count": 159,
   "metadata": {},
   "outputs": [],
   "source": [
    "# augmentors =  [augmentor1,augmentor2,augmentor3,augmentor4,augmentor5]\n",
    "# augmentors =  [augmentor1,augmentor2,augmentor4,augmentor5]\n",
    "# augmentors =  []\n",
    "class MyDataSet(data.Dataset):\n",
    "    def __init__(self, X,Y,transforms=None):\n",
    "        self.x = X\n",
    "        self.y = Y\n",
    "        self.transforms = transforms\n",
    "    def __getitem__(self, index):\n",
    "        sample = self.x[index]\n",
    "        label = self.y[index]\n",
    "        if self.transforms:\n",
    "            sample = self.transforms(sample)\n",
    "        sample =torch.from_numpy(sample)\n",
    "        label = torch.tensor(label).long()\n",
    "        return sample, label\n",
    "    def __len__(self):\n",
    "        return len(self.y)\n",
    "train_set = MyDataSet(train_img,train_lbl)\n",
    "test_set = MyDataSet(test_img,test_lbl)\n",
    "train = data.DataLoader(train_set,batch_size=batch_size,shuffle=True)\n",
    "test  = data.DataLoader(test_set,batch_size=batch_size,shuffle=False)"
   ]
  },
  {
   "cell_type": "code",
   "execution_count": 160,
   "metadata": {},
   "outputs": [],
   "source": [
    "class MyNNClassifier(nn.Module):\n",
    "    def __init__(self, input_size, hidden_size, num_classes):\n",
    "        super(MyNNClassifier, self).__init__()                    \n",
    "        self.fc1 = nn.Linear(input_size, hidden_size)  \n",
    "        self.bn = nn.BatchNorm1d(hidden_size)\n",
    "        self.relu = nn.ReLU()                          \n",
    "        self.fc2 = nn.Linear(hidden_size, num_classes) \n",
    "        self.sm = nn.Softmax(1)\n",
    "        \n",
    "    \n",
    "    def forward(self, x):                            \n",
    "        x = x.view(x.shape[0],-1)\n",
    "        out = self.fc1(x)\n",
    "        out = self.bn(self.relu(out))\n",
    "        out = self.fc2(out)\n",
    "        out = self.sm(out)\n",
    "        return out\n"
   ]
  },
  {
   "cell_type": "code",
   "execution_count": 161,
   "metadata": {
    "scrolled": true
   },
   "outputs": [
    {
     "name": "stdout",
     "output_type": "stream",
     "text": [
      "MyNNClassifier(\n",
      "  (fc1): Linear(in_features=784, out_features=500, bias=True)\n",
      "  (bn): BatchNorm1d(500, eps=1e-05, momentum=0.1, affine=True, track_running_stats=True)\n",
      "  (relu): ReLU()\n",
      "  (fc2): Linear(in_features=500, out_features=10, bias=True)\n",
      "  (sm): Softmax()\n",
      ")\n"
     ]
    }
   ],
   "source": [
    "model = MyNNClassifier(input_size,hidden_size,num_classes)\n",
    "model.cuda()\n",
    "print(model)\n",
    "# criterion = nn.BCELoss()\n",
    "criterion = nn.CrossEntropyLoss()\n",
    "# criterion = nn.NLLLoss()\n",
    "learning_rate = 10**-2\n",
    "optimizer = torch.optim.Adam(model.parameters(), lr=learning_rate)"
   ]
  },
  {
   "cell_type": "markdown",
   "metadata": {},
   "source": [
    "##### Task 4. Train loop"
   ]
  },
  {
   "cell_type": "code",
   "execution_count": 162,
   "metadata": {},
   "outputs": [
    {
     "name": "stdout",
     "output_type": "stream",
     "text": [
      "Accuracy of the network 92 % on the  60000  train images of  0 epoch\n",
      "Accuracy of the network 95 % on the  60000  train images of  1 epoch\n",
      "Accuracy of the network 95 % on the  60000  train images of  2 epoch\n",
      "Accuracy of the network 96 % on the  60000  train images of  3 epoch\n",
      "Accuracy of the network 96 % on the  60000  train images of  4 epoch\n",
      "Accuracy of the network 96 % on the  60000  train images of  5 epoch\n",
      "Accuracy of the network 96 % on the  60000  train images of  6 epoch\n",
      "Accuracy of the network 97 % on the  60000  train images of  7 epoch\n",
      "Accuracy of the network 97 % on the  60000  train images of  8 epoch\n",
      "Accuracy of the network 97 % on the  60000  train images of  9 epoch\n"
     ]
    }
   ],
   "source": [
    "model.train()\n",
    "train_hist = [0]*10\n",
    "for epoch in range(10):\n",
    "    correct = 0\n",
    "    total = 0\n",
    "    for images, labels in train:\n",
    "        optimizer.zero_grad()\n",
    "        images = images.cuda()\n",
    "        labels = labels.cuda()\n",
    "        outputs = model(images)\n",
    "        _, predicted = torch.max(outputs, 1)  # Choose the best class from the output: The class with the best score\n",
    "        total += labels.size(0)                    # Increment the total count\n",
    "        loss = criterion(outputs,labels)\n",
    "        train_hist[epoch]+=loss.cpu().detach().item()\n",
    "        print(train_hist[epoch],end='\\r')\n",
    "        loss.backward()\n",
    "        optimizer.step()  \n",
    "        correct += (predicted == labels).sum()     # Increment the correct count\n",
    "    print('Accuracy of the network %d %%' % (100 * correct / total),'on the ',total,' train images of ',epoch,'epoch')"
   ]
  },
  {
   "cell_type": "markdown",
   "metadata": {},
   "source": [
    "##### Task 5. Loss plot"
   ]
  },
  {
   "cell_type": "code",
   "execution_count": 163,
   "metadata": {},
   "outputs": [
    {
     "data": {
      "image/png": "[encoded data removed]",
      "text/plain": [
       "<Figure size 432x288 with 1 Axes>"
      ]
     },
     "metadata": {
      "needs_background": "light"
     },
     "output_type": "display_data"
    }
   ],
   "source": [
    "ep  = [i for i in range(epoch+1)]\n",
    "plt.plot(ep, train_hist)\n",
    "plt.title('Learning rate: '+str(learning_rate))\n",
    "plt.savefig('fig1.png')"
   ]
  },
  {
   "cell_type": "markdown",
   "metadata": {},
   "source": [
    "##### Task 6. Test set accuracy"
   ]
  },
  {
   "cell_type": "code",
   "execution_count": 164,
   "metadata": {
    "scrolled": true
   },
   "outputs": [
    {
     "name": "stdout",
     "output_type": "stream",
     "text": [
      "Accuracy of the network on the 10K test images: 96 %\n"
     ]
    }
   ],
   "source": [
    "correct = 0\n",
    "total = 0\n",
    "model.eval()\n",
    "with torch.no_grad():\n",
    "    for images, labels in test:\n",
    "        images = images.cuda()\n",
    "        labels = labels.cuda()\n",
    "        outputs = model(images)\n",
    "        _, predicted = torch.max(outputs.data, 1)  # Choose the best class from the output: The class with the best score\n",
    "        total += labels.size(0)                    # Increment the total count\n",
    "        correct += (predicted == labels).sum()     # Increment the correct count\n",
    "    print('Accuracy of the network on the 10K test images: %d %%' % (100 * correct / total))"
   ]
  },
  {
   "cell_type": "markdown",
   "metadata": {},
   "source": [
    "##### Task 7. Inference"
   ]
  },
  {
   "cell_type": "code",
   "execution_count": 165,
   "metadata": {},
   "outputs": [],
   "source": [
    "def predict_image(image):\n",
    "    image_tensor = torch.tensor(image).float().cuda()\n",
    "    image_tensor = image_tensor.unsqueeze_(0)\n",
    "    output = model(image_tensor)\n",
    "    index = output.data.cpu().numpy().argmax()\n",
    "    return index"
   ]
  },
  {
   "cell_type": "code",
   "execution_count": 166,
   "metadata": {
    "scrolled": true
   },
   "outputs": [
    {
     "name": "stdout",
     "output_type": "stream",
     "text": [
      "5\n"
     ]
    },
    {
     "data": {
      "image/png": "[encoded data removed]",
      "text/plain": [
       "<Figure size 432x288 with 1 Axes>"
      ]
     },
     "metadata": {
      "needs_background": "light"
     },
     "output_type": "display_data"
    }
   ],
   "source": [
    "k = random.randint(0,9999)\n",
    "testing_img = test_img[k]\n",
    "testing_img = testing_img.reshape(1,1,28,28)\n",
    "print(predict_image(testing_img))\n",
    "plt.imshow(testing_img.squeeze())\n",
    "plt.show()"
   ]
  }
 ],
 "metadata": {
  "kernelspec": {
   "display_name": "Python 3",
   "language": "python",
   "name": "python3"
  },
  "language_info": {
   "codemirror_mode": {
    "name": "ipython",
    "version": 3
   },
   "file_extension": ".py",
   "mimetype": "text/x-python",
   "name": "python",
   "nbconvert_exporter": "python",
   "pygments_lexer": "ipython3",
   "version": "3.6.7"
  }
 },
 "nbformat": 4,
 "nbformat_minor": 2
}
